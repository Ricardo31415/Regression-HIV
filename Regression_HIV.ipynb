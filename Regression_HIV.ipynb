{
 "cells": [
  {
   "cell_type": "markdown",
   "id": "3e5ad0e3",
   "metadata": {},
   "source": [
    "# Modelo de carga viral "
   ]
  },
  {
   "cell_type": "code",
   "execution_count": 2,
   "id": "beeb56d5",
   "metadata": {},
   "outputs": [],
   "source": [
    "import numpy as np\n",
    "import pandas as pd\n",
    "import matplotlib.pyplot as plt\n",
    "import seaborn as sbn\n",
    "from sklearn.model_selection import train_test_split\n",
    "from sklearn.preprocessing import PolynomialFeatures\n",
    "from sklearn.linear_model import LinearRegression\n",
    "sbn.set()"
   ]
  },
  {
   "cell_type": "markdown",
   "id": "5f6f5783",
   "metadata": {},
   "source": [
    "### Modelo dado"
   ]
  },
  {
   "cell_type": "code",
   "execution_count": 3,
   "id": "da85f2fb",
   "metadata": {},
   "outputs": [],
   "source": [
    "time = np.linspace(0, 10, 101)\n",
    "A, B, alpha, beta = 90000, 90000, 0.3, 1\n",
    "viral_load = []\n",
    "for i in range (0, 101):\n",
    "    f = A * np.exp(-alpha*time[i]) + B * np.exp(-beta*time[i])    \n",
    "    viral_load.append(f)"
   ]
  },
  {
   "cell_type": "markdown",
   "id": "8625ab2e",
   "metadata": {},
   "source": [
    "### Cargamos los datos "
   ]
  },
  {
   "cell_type": "code",
   "execution_count": 12,
   "id": "4a2a707c",
   "metadata": {},
   "outputs": [
    {
     "data": {
      "text/html": [
       "<div>\n",
       "<style scoped>\n",
       "    .dataframe tbody tr th:only-of-type {\n",
       "        vertical-align: middle;\n",
       "    }\n",
       "\n",
       "    .dataframe tbody tr th {\n",
       "        vertical-align: top;\n",
       "    }\n",
       "\n",
       "    .dataframe thead th {\n",
       "        text-align: right;\n",
       "    }\n",
       "</style>\n",
       "<table border=\"1\" class=\"dataframe\">\n",
       "  <thead>\n",
       "    <tr style=\"text-align: right;\">\n",
       "      <th></th>\n",
       "      <th>0</th>\n",
       "      <th>1</th>\n",
       "    </tr>\n",
       "  </thead>\n",
       "  <tbody>\n",
       "    <tr>\n",
       "      <th>0</th>\n",
       "      <td>0.0000</td>\n",
       "      <td>106100.0</td>\n",
       "    </tr>\n",
       "    <tr>\n",
       "      <th>1</th>\n",
       "      <td>0.0831</td>\n",
       "      <td>93240.0</td>\n",
       "    </tr>\n",
       "    <tr>\n",
       "      <th>2</th>\n",
       "      <td>0.1465</td>\n",
       "      <td>166720.0</td>\n",
       "    </tr>\n",
       "    <tr>\n",
       "      <th>3</th>\n",
       "      <td>0.2587</td>\n",
       "      <td>153780.0</td>\n",
       "    </tr>\n",
       "    <tr>\n",
       "      <th>4</th>\n",
       "      <td>0.4828</td>\n",
       "      <td>118800.0</td>\n",
       "    </tr>\n",
       "  </tbody>\n",
       "</table>\n",
       "</div>"
      ],
      "text/plain": [
       "        0         1\n",
       "0  0.0000  106100.0\n",
       "1  0.0831   93240.0\n",
       "2  0.1465  166720.0\n",
       "3  0.2587  153780.0\n",
       "4  0.4828  118800.0"
      ]
     },
     "execution_count": 12,
     "metadata": {},
     "output_type": "execute_result"
    }
   ],
   "source": [
    "datos_hiv = pd.read_csv('HIVseries.csv', header=None)\n",
    "datos_hiv.head()"
   ]
  },
  {
   "cell_type": "code",
   "execution_count": 18,
   "id": "e0bd9c6c",
   "metadata": {},
   "outputs": [],
   "source": [
    "#Filtramos por tiempo y carga viral\n",
    "time_days = np.array(datos_hiv[0])\n",
    "load_hiv = np.array(datos_hiv[1])"
   ]
  },
  {
   "cell_type": "markdown",
   "id": "c97e6a67",
   "metadata": {},
   "source": [
    "### Modelo obtenido mediante regresión polinomial "
   ]
  },
  {
   "cell_type": "code",
   "execution_count": 19,
   "id": "dcf19128",
   "metadata": {},
   "outputs": [],
   "source": [
    "#Se define el grado del polinomio\n",
    "poli_reg = PolynomialFeatures(degree=2)\n",
    "\n",
    "#Transformacion del arreglo\n",
    "X_train = poli_reg.fit_transform(time_days.reshape(-1,1))\n",
    "X_test = poli_reg.fit_transform(time.reshape(-1,1))\n",
    "\n",
    "#Se define el modelo\n",
    "p_modelo = LinearRegression()\n",
    "\n",
    "#Se entrena el modelo\n",
    "p_modelo.fit(X_train, load_hiv)\n",
    "\n",
    "#Se predicen los datos\n",
    "y_predecida = p_modelo.predict(X_test)"
   ]
  },
  {
   "cell_type": "markdown",
   "id": "8b6f88ec",
   "metadata": {},
   "source": [
    "### Graficamos"
   ]
  },
  {
   "cell_type": "code",
   "execution_count": 21,
   "id": "ba6f8056",
   "metadata": {},
   "outputs": [
    {
     "data": {
      "image/png": "[encoded data removed]",
      "text/plain": [
       "<Figure size 432x288 with 1 Axes>"
      ]
     },
     "metadata": {},
     "output_type": "display_data"
    }
   ],
   "source": [
    "plt.plot(time, y_predecida, c=\"red\", label=\"Reg polinomial\")\n",
    "plt.plot(time, viral_load, '--', label=\"Modelo\")\n",
    "plt.scatter(time_days,load_hiv, label=\"Datos\")\n",
    "plt.title(\"Modelo viral VIH\")\n",
    "plt.xlabel(\"t [Días]\")\n",
    "plt.xticks(range(0,10,1))\n",
    "plt.ylabel(\"Carga viral\")\n",
    "plt.legend(loc=\"upper right\")\n",
    "plt.show()"
   ]
  },
  {
   "cell_type": "markdown",
   "id": "4a0cc376",
   "metadata": {},
   "source": [
    "#### Por lo tanto vemos de la grafica que el modelo obtenido mediante la regresion polinomial de grado 2 no es lo suficiente bueno para tratar el problema"
   ]
  }
 ],
 "metadata": {
  "kernelspec": {
   "display_name": "Python 3",
   "language": "python",
   "name": "python3"
  },
  "language_info": {
   "codemirror_mode": {
    "name": "ipython",
    "version": 3
   },
   "file_extension": ".py",
   "mimetype": "text/x-python",
   "name": "python",
   "nbconvert_exporter": "python",
   "pygments_lexer": "ipython3",
   "version": "3.8.8"
  }
 },
 "nbformat": 4,
 "nbformat_minor": 5
}
